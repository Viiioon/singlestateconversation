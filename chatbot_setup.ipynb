{
 "cells": [
  {
   "attachments": {},
   "cell_type": "markdown",
   "metadata": {},
   "source": [
    "# A Chatbot using GPT and a Database\n",
    "This allows multiple chatbot types (e.g. a health coach and a learning assistant) to be created. Multiple chatbot instances can be created per chatbot type (e.g. a health coach for user X and user Y, and a learning assistant for user P and user Q). Both, types and instances are stored with and referenced by an ID (e.g. a UUID) in the database.\n",
    "\n",
    "This notebook is a simplest possible tutorial guiding you to create one type with one instance. Have a look at the **chatbot_setup_advanced.jpynp** for more advanced features.\n",
    "\n",
    "### 1. Preparation\n",
    "\n",
    "##### 1.1. Set the OpenAI API Key and Model\n",
    "Rename the file **chatbot/openai_template.py** to **chatbot/openai.py** and set the following keys.\n",
    "- OPENAI_KEY = \"your OpenAI API key in quotes\"\n",
    "- OPENAI_MODEL = \"model name in quotes, e.g. gpt-3.5-turbo-16k\"\n",
    "\n",
    "##### 1.2. Install openai package\n",
    "<sup><sub>Note: If you are using GitHub Codespaces, the first time you execute a code cell, you might get asked questions from the development environment (IDE). You can say yes to recommended installations, and to installing/enabling reecommended extensions. When asked to **Select Another Kernel**, choose **Python Environments** and select the recommende environment, e.g., **Python 3.10.13**</sub></sup>"
   ]
  },
  {
   "cell_type": "code",
   "execution_count": 15,
   "metadata": {},
   "outputs": [
    {
     "name": "stdout",
     "output_type": "stream",
     "text": [
      "Requirement already satisfied: openai in c:\\users\\vionh\\appdata\\local\\programs\\python\\python311\\lib\\site-packages (1.28.0)Note: you may need to restart the kernel to use updated packages.\n",
      "\n",
      "Requirement already satisfied: anyio<5,>=3.5.0 in c:\\users\\vionh\\appdata\\local\\programs\\python\\python311\\lib\\site-packages (from openai) (4.3.0)\n",
      "Requirement already satisfied: distro<2,>=1.7.0 in c:\\users\\vionh\\appdata\\local\\programs\\python\\python311\\lib\\site-packages (from openai) (1.8.0)\n",
      "Requirement already satisfied: httpx<1,>=0.23.0 in c:\\users\\vionh\\appdata\\local\\programs\\python\\python311\\lib\\site-packages (from openai) (0.27.0)\n",
      "Requirement already satisfied: pydantic<3,>=1.9.0 in c:\\users\\vionh\\appdata\\local\\programs\\python\\python311\\lib\\site-packages (from openai) (2.7.1)\n",
      "Requirement already satisfied: sniffio in c:\\users\\vionh\\appdata\\local\\programs\\python\\python311\\lib\\site-packages (from openai) (1.3.1)\n",
      "Requirement already satisfied: tqdm>4 in c:\\users\\vionh\\appdata\\local\\programs\\python\\python311\\lib\\site-packages (from openai) (4.66.1)\n",
      "Requirement already satisfied: typing-extensions<5,>=4.7 in c:\\users\\vionh\\appdata\\local\\programs\\python\\python311\\lib\\site-packages (from openai) (4.8.0)\n",
      "Requirement already satisfied: idna>=2.8 in c:\\users\\vionh\\appdata\\local\\programs\\python\\python311\\lib\\site-packages (from anyio<5,>=3.5.0->openai) (3.4)\n",
      "Requirement already satisfied: certifi in c:\\users\\vionh\\appdata\\local\\programs\\python\\python311\\lib\\site-packages (from httpx<1,>=0.23.0->openai) (2023.7.22)\n",
      "Requirement already satisfied: httpcore==1.* in c:\\users\\vionh\\appdata\\local\\programs\\python\\python311\\lib\\site-packages (from httpx<1,>=0.23.0->openai) (1.0.5)\n",
      "Requirement already satisfied: h11<0.15,>=0.13 in c:\\users\\vionh\\appdata\\local\\programs\\python\\python311\\lib\\site-packages (from httpcore==1.*->httpx<1,>=0.23.0->openai) (0.14.0)\n",
      "Requirement already satisfied: annotated-types>=0.4.0 in c:\\users\\vionh\\appdata\\local\\programs\\python\\python311\\lib\\site-packages (from pydantic<3,>=1.9.0->openai) (0.6.0)\n",
      "Requirement already satisfied: pydantic-core==2.18.2 in c:\\users\\vionh\\appdata\\local\\programs\\python\\python311\\lib\\site-packages (from pydantic<3,>=1.9.0->openai) (2.18.2)\n",
      "Requirement already satisfied: colorama in c:\\users\\vionh\\appdata\\roaming\\python\\python311\\site-packages (from tqdm>4->openai) (0.4.6)\n"
     ]
    },
    {
     "name": "stderr",
     "output_type": "stream",
     "text": [
      "\n",
      "[notice] A new release of pip is available: 23.3.1 -> 24.0\n",
      "[notice] To update, run: python.exe -m pip install --upgrade pip\n"
     ]
    }
   ],
   "source": [
    "%pip install openai"
   ]
  },
  {
   "cell_type": "markdown",
   "metadata": {},
   "source": [
    "##### 1.3. Import Chatbot library"
   ]
  },
  {
   "cell_type": "code",
   "execution_count": 16,
   "metadata": {},
   "outputs": [],
   "source": [
    "from chatbot.chatbot import Chatbot"
   ]
  },
  {
   "attachments": {},
   "cell_type": "markdown",
   "metadata": {},
   "source": [
    "### 2. Create a chatbot of type **health coach** for user **Daniel Müller**"
   ]
  },
  {
   "cell_type": "markdown",
   "metadata": {},
   "source": [
    "##### 2.1. Prompt Engineering\n",
    "To create a chatbot, we need to provide prompts. There are three prompts that can be used to customise the behaviour of the chatbot: a ***role***, ***context***, and ***starter*** prompt.\n",
    "\n",
    "**Role Prompt (type_role)**\n",
    "\n",
    "This prompt will be put at the beginning of the utterances sent to openai for completion. If you create multiple chatbots of the same type, this prompt will be the same for each one of them.\n",
    "\n",
    "You can use this prompt to specify the general (user-independent) behaviour of the chatbot, for example specifying the kind of person to enact, the topical context it acts in, and the goal of conversations it conducts with its users."
   ]
  },
  {
   "cell_type": "code",
   "execution_count": 17,
   "metadata": {},
   "outputs": [],
   "source": [
    "my_type_role = \"\"\"\n",
    "    You are an experienced top-flight football coach, named 'Don Carlo', provide a comprehensive season-long development plan to enhance the skills, tactics, team spirit, and physical fitness of a youth football team aged 12-14 years, aiming to move from the 3rd division to the 2nd division. Include a balanced approach that covers:\n",
    "- Weekly training schedules and key focus areas.\n",
    "- Tactical formations and game play strategies.\n",
    "- Psychological strategies to boost team morale and focus.\n",
    "- Nutritional advice to support athletic performance.\n",
    "- Monitoring and evaluation techniques to track progress.\n",
    "\"\"\""
   ]
  },
  {
   "cell_type": "markdown",
   "metadata": {},
   "source": [
    "**Context Prompt (instance_context)**\n",
    "\n",
    "This prompt will be put right after the role prompt. If you create multiple chatbots of the same type, this prompt will be used only for one of them. <br />\n",
    "\n",
    "You can use this prompt to specify user-specific behaviour, for example information about the particular user that will use this chatbot instance."
   ]
  },
  {
   "cell_type": "code",
   "execution_count": 18,
   "metadata": {},
   "outputs": [],
   "source": [
    "my_instance_context = \"\"\"\n",
    " Vion, a football coach at SC Wipkingen (a local club in Zurich) for the youth team, conducts twice a week trainings on Tuesdays and Thursdays and one matchday on Saturday. He is partnered with Flurin, who has different ideas with which Vion does not agree with sometimes. Also there is a mismatch of mentalities in the team as some players are only for the fun of it there and others like to win more and Vion wants to find the perfect balance so that his players are happy. Also Vion strives to be perceived as a good coach and wants to retain his talent in the team. Sometimes there can be some fights and disputes between players in the team and Vion does not want any of that and wants to have a strong team mentality among the players.\n",
    "    Provide a message to Vion, the goal of the message is that Vion understands what he can do to improve his squad and advance in the rankings.\n",
    "\"\"\""
   ]
  },
  {
   "cell_type": "markdown",
   "metadata": {},
   "source": [
    "**Starter Prompt (instance_starter)**\n",
    "\n",
    "This prompt will be appended after the role and context prompts and is meant to instruct GPT to create an initial message that opens the conversation with the user. <br />\n",
    "\n",
    "You can use this prompt to instruct GPT to welcome the user, ask initial questions, and how to proceed from there."
   ]
  },
  {
   "cell_type": "code",
   "execution_count": 19,
   "metadata": {},
   "outputs": [],
   "source": [
    "\n",
    "my_instance_starter = \"\"\"\n",
    "    After reviewing the coach's profile, compose a single, very short message that a football coach would use to initiate today's conversation with Vion.\n",
    "\"\"\""
   ]
  },
  {
   "cell_type": "markdown",
   "metadata": {},
   "source": [
    "##### 2.2. Create Chatbot\n",
    "The following code creates a new Chatbot where the chatbot type is identified by the type_id provided and the chatbot instance by the user_id. These two IDs will be used further below to construct the URL pointing to this chatbot once it is deployed.\n",
    "\n",
    "The type name is only used in the front-end and does not affect the conversational behaviour.\n",
    "\n",
    "Once this code is executed, the chatbot is stored in the database."
   ]
  },
  {
   "cell_type": "code",
   "execution_count": 20,
   "metadata": {},
   "outputs": [],
   "source": [
    "bot = Chatbot(\n",
    "    database_file=\"database/chatbot.db\", \n",
    "    type_id=\"c48a13d3\",\n",
    "    user_id=\"fe6d944b\",\n",
    "    type_name=\"Carlo Ancelotti\",\n",
    "    type_role=my_type_role,\n",
    "    instance_context=my_instance_context,\n",
    "    instance_starter=my_instance_starter\n",
    ")"
   ]
  },
  {
   "cell_type": "markdown",
   "metadata": {},
   "source": [
    "##### 2.3. Initiate Conversation Starter (Optional)\n",
    "\n",
    "If the chatbot should open the conversation with an initial message, the following code is executed. This code will execute a request to GPT, with the role, context and startet prompts specified above. The response from GPT (the initial message) will be stored in the database and therefore the user will see the opening message as soon as they access the chatbot."
   ]
  },
  {
   "cell_type": "code",
   "execution_count": 21,
   "metadata": {},
   "outputs": [
    {
     "name": "stdout",
     "output_type": "stream",
     "text": [
      "[\"Hi Vion,\\n\\nHoping this message finds you well. I have some thoughts and strategies to share looking specifically at tactical formations, training routines, boosting team morale, and more, all aimed at bringing our team to the next level. I do think it's a discussion that could be beneficial for us. When would you be free to discuss?\\n\\nKind Regards.\"]\n"
     ]
    }
   ],
   "source": [
    "print(bot.start())"
   ]
  },
  {
   "cell_type": "markdown",
   "metadata": {},
   "source": [
    "### 3. Deploy and Disseminate\n",
    "You can now deploy your chatbot. If you are using our guide for deploying to pythonanywhere.com, the URL to be handed out to the user is as follows.\n",
    "\n",
    "**Generic URL**\n",
    "\n",
    "https://[your pythonanywhere user name].pythonanywhere.com/[type id]/[user_id]/chat\n",
    "\n",
    "**For Example**\n",
    "\n",
    "https://monkey23.pythonanywhere.com/c48a13d7/fe6d944d/chat\n",
    "\n"
   ]
  }
 ],
 "metadata": {
  "kernelspec": {
   "display_name": "Python 3",
   "language": "python",
   "name": "python3"
  },
  "language_info": {
   "codemirror_mode": {
    "name": "ipython",
    "version": 3
   },
   "file_extension": ".py",
   "mimetype": "text/x-python",
   "name": "python",
   "nbconvert_exporter": "python",
   "pygments_lexer": "ipython3",
   "version": "3.11.5"
  },
  "orig_nbformat": 4
 },
 "nbformat": 4,
 "nbformat_minor": 2
}
